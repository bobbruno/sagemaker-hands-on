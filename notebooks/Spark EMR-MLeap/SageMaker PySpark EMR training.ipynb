{
 "cells": [
  {
   "cell_type": "markdown",
   "metadata": {},
   "source": [
    "### Overview\n",
    "\n",
    "This notebook does the following:\n",
    "\n",
    "* Demonstrates how you can connect Amazon SageMaker Studio Sparkmagic kernel to a kerberized EMR cluster\n",
    "* Explore and query data from a Hive table \n",
    "* Data pre-processing and feature engineering using EMR\n",
    "* Trains a model using the Spark ML Lobrary\n",
    "* Serializes the model to a tarball using the [MLeap](https://github.com/combust/mleap) library\n",
    "* Saves some data for using on Inferece\n",
    "\n",
    "----------\n",
    "\n",
    "When using PySpark kernel notebooks, there is no need to create a SparkContext or a HiveContext; those are all created for you automatically when you run the first code cell, and you'll be able to see the progress printed. The contexts are created with the following variable names:\n",
    "- SparkContext (sc)\n",
    "- HiveContext (sqlContext)\n",
    "\n",
    "----------\n",
    "### PySpark magics \n",
    "\n",
    "The PySpark kernel provides some predefined “magics”, which are special commands that you can call with `%%` (e.g. `%%MAGIC` <args>). The magic command must be the first word in a code cell and allow for multiple lines of content. You can’t put comments before a cell magic.\n",
    "\n",
    "For more information on magics, see [here](http://ipython.readthedocs.org/en/stable/interactive/magics.html).\n",
    "\n",
    "#### Running locally (%%local)\n",
    "\n",
    "You can use the `%%local` magic to run your code locally on the Jupyter server without going to Spark. When you use %%local all subsequent lines in the cell will be executed locally. The code in the cell must be valid Python code."
   ]
  },
  {
   "cell_type": "markdown",
   "metadata": {},
   "source": [
    "# Initial Setup"
   ]
  },
  {
   "cell_type": "markdown",
   "metadata": {},
   "source": [
    "## Set the EMR Cluster ID\n",
    "The code below will retrieve the cluster id and bucket name from the pre-deployed Cloudformation Stack. \n",
    "\n",
    "If you create the cluster in a different way, you can find this information on the [EMR console](https://console.aws.amazon.com/elasticmapreduce/home) under the \"ID\" field "
   ]
  },
  {
   "cell_type": "code",
   "execution_count": 1,
   "metadata": {},
   "outputs": [
    {
     "name": "stdout",
     "output_type": "stream",
     "text": [
      "The EMR Cluster Id is j-YX950VXDPDGS\n",
      "The S3 bucket EMR has access to is studio-emr-v5-s3bucket-t2wfrxqwzj0g\n"
     ]
    }
   ],
   "source": [
    "%%local\n",
    "import boto3\n",
    "\n",
    "# This will work only if there's a single created stack in the account, otherwise it will get the first one.\n",
    "cfn = boto3.client('cloudformation')\n",
    "stack_name = cfn.list_stacks(StackStatusFilter=['CREATE_COMPLETE'])['StackSummaries'][0]['StackName']\n",
    "emr_cluster_id = cfn.describe_stack_resource(\n",
    "    StackName=stack_name,\n",
    "    LogicalResourceId='EMRCluster'\n",
    ")['StackResourceDetail']['PhysicalResourceId']\n",
    "emr_bucket = cfn.describe_stack_resource(\n",
    "    StackName=stack_name,\n",
    "    LogicalResourceId='S3Bucket'\n",
    ")['StackResourceDetail']['PhysicalResourceId']\n",
    "\n",
    "print(f'The EMR Cluster Id is {emr_cluster_id}\\nThe S3 bucket EMR has access to is {emr_bucket}')"
   ]
  },
  {
   "cell_type": "markdown",
   "metadata": {},
   "source": [
    "Next, we will connect to the EMR cluster as \"user1\" using the \"sm-sparkmagic\" CLI. If you dont set the user name, jobs will apear as livy user"
   ]
  },
  {
   "cell_type": "code",
   "execution_count": null,
   "metadata": {},
   "outputs": [],
   "source": [
    "%%local\n",
    "!sm-sparkmagic connect --cluster-id {emr_cluster_id} --user-name \"user1\""
   ]
  },
  {
   "cell_type": "markdown",
   "metadata": {},
   "source": [
    "Before running the next cell, click on the launch terminal in current SageMaker kernel image icon ($_) in the notebook toolbar above (not through the menu or Launcher) and access the terminal. In the terminal window, type `kinit user1` and when prompted for a password type in the password for \"user1\"\n",
    "\n",
    "*Note: First time, use \"pwd1\" for the password. You will receive a message saying that your password is expired and you must change it now. Enter a new password when prompted and remember it if you have to repeat the procedure the next day.*\n",
    "\n",
    "```\n",
    "Password for user1@EC2.INTERNAL: \n",
    "Password expired.  You must change it now.\n",
    "\n",
    "Enter new password: \n",
    "Enter it again: \n",
    "```\n",
    "\n",
    "**Before proceeding, restart the kernel using the restart kernel icon (round arrow) from the toolbar. This is required so that SparkMagic can pickup the generated kerberos configuration**. After doing that, run the cell to retrieve cluster and bucket ids again, you'll need those variables later."
   ]
  },
  {
   "cell_type": "markdown",
   "metadata": {},
   "source": [
    "## Livy Basics\n",
    "### Session information (%%info)\n",
    "\n",
    "Livy is an open source REST server for Spark. When you execute a code cell in a sparkmagic notebook, it creates a Livy session to execute your code. `%%info` magic will display the current Livy session information."
   ]
  },
  {
   "cell_type": "code",
   "execution_count": 2,
   "metadata": {},
   "outputs": [
    {
     "data": {
      "text/html": [
       "Current session configs: <tt>{'driverMemory': '1000M', 'executorCores': 2, 'kind': 'pyspark'}</tt><br>"
      ],
      "text/plain": [
       "<IPython.core.display.HTML object>"
      ]
     },
     "metadata": {},
     "output_type": "display_data"
    },
    {
     "data": {
      "text/html": [
       "No active sessions."
      ],
      "text/plain": [
       "<IPython.core.display.HTML object>"
      ]
     },
     "metadata": {},
     "output_type": "display_data"
    }
   ],
   "source": [
    "%%info"
   ]
  },
  {
   "cell_type": "markdown",
   "metadata": {},
   "source": [
    "You can configure the session creation parameters using the %%configure magic if needed. The example below tells spark to install the MLeap jars on demand. Run it, we'll need it to serialize the Spark models for SageMaker."
   ]
  },
  {
   "cell_type": "code",
   "execution_count": 3,
   "metadata": {},
   "outputs": [
    {
     "data": {
      "text/html": [
       "Current session configs: <tt>{'conf': {'spark.jars.packages': 'ml.combust.mleap:mleap-spark_2.11:0.16.0'}, 'kind': 'pyspark'}</tt><br>"
      ],
      "text/plain": [
       "<IPython.core.display.HTML object>"
      ]
     },
     "metadata": {},
     "output_type": "display_data"
    },
    {
     "data": {
      "text/html": [
       "No active sessions."
      ],
      "text/plain": [
       "<IPython.core.display.HTML object>"
      ]
     },
     "metadata": {},
     "output_type": "display_data"
    }
   ],
   "source": [
    "%%configure -f \n",
    "{\n",
    "    \"conf\": {\n",
    "        \"spark.jars.packages\": \"ml.combust.mleap:mleap-spark_2.11:0.16.0\"\n",
    "    }\n",
    "}"
   ]
  },
  {
   "cell_type": "markdown",
   "metadata": {},
   "source": [
    "## Setup MLeap Library (do this first)"
   ]
  },
  {
   "cell_type": "markdown",
   "metadata": {},
   "source": [
    "The following cell makes sure mleap.pyspark is imported before anything for PySpark integration to work (see [repo instructions](https://github.com/combust/mleap#pyspark-integration-1))."
   ]
  },
  {
   "cell_type": "code",
   "execution_count": 4,
   "metadata": {},
   "outputs": [
    {
     "name": "stdout",
     "output_type": "stream",
     "text": [
      "Starting Spark application\n"
     ]
    },
    {
     "data": {
      "text/html": [
       "<table>\n",
       "<tr><th>ID</th><th>YARN Application ID</th><th>Kind</th><th>State</th><th>Spark UI</th><th>Driver log</th><th>User</th><th>Current session?</th></tr><tr><td>1</td><td>application_1623093343023_0003</td><td>pyspark</td><td>idle</td><td><a target=\"_blank\" href=\"http://ip-10-0-20-205.ec2.internal:20888/proxy/application_1623093343023_0003/\">Link</a></td><td><a target=\"_blank\" href=\"http://ip-10-0-20-236.ec2.internal:8042/node/containerlogs/container_1623093343023_0003_01_000001/user1\">Link</a></td><td>user1</td><td>✔</td></tr></table>"
      ],
      "text/plain": [
       "<IPython.core.display.HTML object>"
      ]
     },
     "metadata": {},
     "output_type": "display_data"
    },
    {
     "data": {
      "application/vnd.jupyter.widget-view+json": {
       "model_id": "",
       "version_major": 2,
       "version_minor": 0
      },
      "text/plain": [
       "FloatProgress(value=0.0, bar_style='info', description='Progress:', layout=Layout(height='25px', width='50%'),…"
      ]
     },
     "metadata": {},
     "output_type": "display_data"
    },
    {
     "name": "stdout",
     "output_type": "stream",
     "text": [
      "SparkSession available as 'spark'.\n"
     ]
    },
    {
     "data": {
      "application/vnd.jupyter.widget-view+json": {
       "model_id": "",
       "version_major": 2,
       "version_minor": 0
      },
      "text/plain": [
       "FloatProgress(value=0.0, bar_style='info', description='Progress:', layout=Layout(height='25px', width='50%'),…"
      ]
     },
     "metadata": {},
     "output_type": "display_data"
    }
   ],
   "source": [
    "import mleap.pyspark\n",
    "from mleap.pyspark.spark_support import SimpleSparkSerializer"
   ]
  },
  {
   "cell_type": "markdown",
   "metadata": {},
   "source": [
    "## Data Exploration"
   ]
  },
  {
   "cell_type": "markdown",
   "metadata": {},
   "source": [
    "In the next cell, we will use the HiveContext to query Hive and look at the databases and tables"
   ]
  },
  {
   "cell_type": "code",
   "execution_count": 5,
   "metadata": {},
   "outputs": [
    {
     "data": {
      "application/vnd.jupyter.widget-view+json": {
       "model_id": "",
       "version_major": 2,
       "version_minor": 0
      },
      "text/plain": [
       "FloatProgress(value=0.0, bar_style='info', description='Progress:', layout=Layout(height='25px', width='50%'),…"
      ]
     },
     "metadata": {},
     "output_type": "display_data"
    },
    {
     "name": "stdout",
     "output_type": "stream",
     "text": [
      "+------------+\n",
      "|databaseName|\n",
      "+------------+\n",
      "|     default|\n",
      "+------------+\n",
      "\n",
      "+--------+-------------+-----------+\n",
      "|database|    tableName|isTemporary|\n",
      "+--------+-------------+-----------+\n",
      "| default|movie_reviews|      false|\n",
      "+--------+-------------+-----------+"
     ]
    }
   ],
   "source": [
    "sqlContext = HiveContext(sqlContext) \n",
    "\n",
    "dbs = sqlContext.sql(\"show databases\")\n",
    "dbs.show()\n",
    "\n",
    "tables = sqlContext.sql(\"show tables\")\n",
    "tables.show()\n"
   ]
  },
  {
   "cell_type": "markdown",
   "metadata": {},
   "source": [
    "Next, we will query the movie_reviews table and get the data into a spark dataframe. You can visualize the data from the remote cluster locally in the notebook "
   ]
  },
  {
   "cell_type": "code",
   "execution_count": 6,
   "metadata": {},
   "outputs": [
    {
     "data": {
      "application/vnd.jupyter.widget-view+json": {
       "model_id": "",
       "version_major": 2,
       "version_minor": 0
      },
      "text/plain": [
       "FloatProgress(value=0.0, bar_style='info', description='Progress:', layout=Layout(height='25px', width='50%'),…"
      ]
     },
     "metadata": {},
     "output_type": "display_data"
    }
   ],
   "source": [
    "movie_reviews = sqlContext.sql(\"select * from movie_reviews\").cache()"
   ]
  },
  {
   "cell_type": "markdown",
   "metadata": {},
   "source": [
    "Let's look at the data size and size of each class (positive and negative) and visualize it. You can see that we have a balanced dataset with equal number on both classes (25000 each)"
   ]
  },
  {
   "cell_type": "code",
   "execution_count": 7,
   "metadata": {},
   "outputs": [
    {
     "data": {
      "application/vnd.jupyter.widget-view+json": {
       "model_id": "",
       "version_major": 2,
       "version_minor": 0
      },
      "text/plain": [
       "FloatProgress(value=0.0, bar_style='info', description='Progress:', layout=Layout(height='25px', width='50%'),…"
      ]
     },
     "metadata": {},
     "output_type": "display_data"
    },
    {
     "name": "stdout",
     "output_type": "stream",
     "text": [
      "(50001, 2)\n",
      "DataFrame[sentiment: string, count: bigint]"
     ]
    }
   ],
   "source": [
    "# Shape\n",
    "print((movie_reviews.count(), len(movie_reviews.columns)))\n",
    "# count of both positive and negative sentiments\n",
    "movie_reviews.groupBy('sentiment').count()"
   ]
  },
  {
   "cell_type": "code",
   "execution_count": 8,
   "metadata": {},
   "outputs": [
    {
     "data": {
      "application/vnd.jupyter.widget-view+json": {
       "model_id": "",
       "version_major": 2,
       "version_minor": 0
      },
      "text/plain": [
       "FloatProgress(value=0.0, bar_style='info', description='Progress:', layout=Layout(height='25px', width='50%'),…"
      ]
     },
     "metadata": {},
     "output_type": "display_data"
    }
   ],
   "source": [
    "pos_reviews = movie_reviews.filter(movie_reviews.sentiment == 'positive').collect()\n",
    "neg_reviews = movie_reviews.filter(movie_reviews.sentiment == 'negative').collect()"
   ]
  },
  {
   "cell_type": "code",
   "execution_count": 9,
   "metadata": {},
   "outputs": [
    {
     "data": {
      "application/vnd.jupyter.widget-view+json": {
       "model_id": "",
       "version_major": 2,
       "version_minor": 0
      },
      "text/plain": [
       "FloatProgress(value=0.0, bar_style='info', description='Progress:', layout=Layout(height='25px', width='50%'),…"
      ]
     },
     "metadata": {},
     "output_type": "display_data"
    },
    {
     "data": {
      "image/png": "[encoded data removed]",
      "text/plain": [
       "<IPython.core.display.Image object>"
      ]
     },
     "metadata": {},
     "output_type": "display_data"
    }
   ],
   "source": [
    "import matplotlib.pyplot as plt\n",
    "def plot_counts(positive,negative):\n",
    "    plt.rcParams['figure.figsize']=(6,6)\n",
    "    plt.bar(0,positive,width=0.6,label='Positive Reviews',color='Green')\n",
    "    plt.bar(2,negative,width=0.6,label='Negative Reviews',color='Red')\n",
    "    handles, labels = plt.gca().get_legend_handles_labels()\n",
    "    by_label = dict(zip(labels, handles))\n",
    "    plt.legend(by_label.values(), by_label.keys())\n",
    "    plt.ylabel('Count')\n",
    "    plt.xlabel('Type of Review')\n",
    "    plt.tick_params(\n",
    "        axis='x',          \n",
    "        which='both',      \n",
    "        bottom=False,      \n",
    "        top=False,         \n",
    "        labelbottom=False) \n",
    "    plt.show()\n",
    "    \n",
    "plot_counts(len(pos_reviews),len(neg_reviews))\n",
    "%matplot plt"
   ]
  },
  {
   "cell_type": "markdown",
   "metadata": {},
   "source": [
    "Next, Let's inspect length of reviews using the pyspark.sql.functions module"
   ]
  },
  {
   "cell_type": "code",
   "execution_count": 10,
   "metadata": {},
   "outputs": [
    {
     "data": {
      "application/vnd.jupyter.widget-view+json": {
       "model_id": "",
       "version_major": 2,
       "version_minor": 0
      },
      "text/plain": [
       "FloatProgress(value=0.0, bar_style='info', description='Progress:', layout=Layout(height='25px', width='50%'),…"
      ]
     },
     "metadata": {},
     "output_type": "display_data"
    },
    {
     "name": "stdout",
     "output_type": "stream",
     "text": [
      "+----------------+\n",
      "|Length of Review|\n",
      "+----------------+\n",
      "|               6|\n",
      "|            1761|\n",
      "|             998|\n",
      "|             926|\n",
      "|             748|\n",
      "|            1317|\n",
      "|             656|\n",
      "|             726|\n",
      "|             934|\n",
      "|             681|\n",
      "|             176|\n",
      "|             578|\n",
      "|             937|\n",
      "|            2227|\n",
      "|             662|\n",
      "|             275|\n",
      "|             830|\n",
      "|             720|\n",
      "|            1322|\n",
      "|             639|\n",
      "+----------------+\n",
      "only showing top 20 rows"
     ]
    }
   ],
   "source": [
    "from pyspark.sql.functions import length\n",
    "reviewlengthDF = movie_reviews.select(length('review').alias('Length of Review')) \n",
    "reviewlengthDF.show() "
   ]
  },
  {
   "cell_type": "markdown",
   "metadata": {},
   "source": [
    "You can also execute SparkSQL queries using the %%sql magic and save results to a local data frame. This allows for quick data exploration. Max rows returned by default is 2500. You can set the max rows by using the -n argument. "
   ]
  },
  {
   "cell_type": "code",
   "execution_count": 11,
   "metadata": {},
   "outputs": [
    {
     "data": {
      "application/vnd.jupyter.widget-view+json": {
       "model_id": "",
       "version_major": 2,
       "version_minor": 0
      },
      "text/plain": [
       "FloatProgress(value=0.0, bar_style='info', description='Progress:', layout=Layout(height='25px', width='50%'),…"
      ]
     },
     "metadata": {},
     "output_type": "display_data"
    },
    {
     "data": {
      "application/vnd.jupyter.widget-view+json": {
       "model_id": "ca135c33f17f4e9e8b737ef806ef643e",
       "version_major": 2,
       "version_minor": 0
      },
      "text/plain": [
       "VBox(children=(HBox(children=(HTML(value='Type:'), Button(description='Table', layout=Layout(width='70px'), st…"
      ]
     },
     "metadata": {},
     "output_type": "display_data"
    },
    {
     "data": {
      "application/vnd.jupyter.widget-view+json": {
       "model_id": "b18c987351ae43edbe353257b9e58a05",
       "version_major": 2,
       "version_minor": 0
      },
      "text/plain": [
       "Output()"
      ]
     },
     "metadata": {},
     "output_type": "display_data"
    }
   ],
   "source": [
    "%%sql -o movie_reviews_sparksql_df -n 10\n",
    "select * from movie_reviews "
   ]
  },
  {
   "cell_type": "markdown",
   "metadata": {},
   "source": [
    "You can access and explore the data in the dataframe locally"
   ]
  },
  {
   "cell_type": "code",
   "execution_count": 12,
   "metadata": {},
   "outputs": [
    {
     "data": {
      "application/vnd.jupyter.widget-view+json": {
       "model_id": "db07e97608694789b707b294bade1041",
       "version_major": 2,
       "version_minor": 0
      },
      "text/plain": [
       "VBox(children=(HBox(children=(HTML(value='Type:'), Button(description='Table', layout=Layout(width='70px'), st…"
      ]
     },
     "metadata": {},
     "output_type": "display_data"
    },
    {
     "data": {
      "application/vnd.jupyter.widget-view+json": {
       "model_id": "bbc27dbabc08417c9017ac74d863ef56",
       "version_major": 2,
       "version_minor": 0
      },
      "text/plain": [
       "Output()"
      ]
     },
     "metadata": {},
     "output_type": "display_data"
    }
   ],
   "source": [
    "%%local \n",
    "movie_reviews_sparksql_df.head(10)"
   ]
  },
  {
   "cell_type": "markdown",
   "metadata": {},
   "source": [
    "## Training a Sentiment Classifier using Spark ML"
   ]
  },
  {
   "cell_type": "markdown",
   "metadata": {},
   "source": [
    "### Data Preparation"
   ]
  },
  {
   "cell_type": "markdown",
   "metadata": {},
   "source": [
    "The cell below declares functions that will format the data in preparation for training the model:\n",
    "\n",
    "- `remove_betwee_square_brackets`: cleans text between brackets, as it is not relevant for sentiment\n",
    "- `denoise_text`: general noise remover. Currently only removes text between brackets\n",
    "- `preprocess_text`: denoises, replaces all whitespace with single space, removes single characters\n",
    "- `process_data`: applies the transformation to the `review` and `sentiment` columns"
   ]
  },
  {
   "cell_type": "code",
   "execution_count": 13,
   "metadata": {},
   "outputs": [
    {
     "data": {
      "application/vnd.jupyter.widget-view+json": {
       "model_id": "",
       "version_major": 2,
       "version_minor": 0
      },
      "text/plain": [
       "FloatProgress(value=0.0, bar_style='info', description='Progress:', layout=Layout(height='25px', width='50%'),…"
      ]
     },
     "metadata": {},
     "output_type": "display_data"
    }
   ],
   "source": [
    "import re\n",
    "from pyspark.sql.functions import *\n",
    "from pyspark.sql.types import *\n",
    "\n",
    "\n",
    "labels_dict = {'positive': 1,\n",
    "               'negative': 0\n",
    "              }\n",
    "\n",
    "def remove_between_square_brackets(text):\n",
    "    return re.sub('\\[[^]]*\\]', '', text)\n",
    "\n",
    "def denoise_text(text):\n",
    "    text = remove_between_square_brackets(text)\n",
    "    return text\n",
    "\n",
    "def preprocess_text(document):\n",
    "    document = denoise_text(document)\n",
    "    # Remove all the special characters\n",
    "    document = re.sub(r'\\W', ' ', str(document))\n",
    "\n",
    "    # remove all single characters\n",
    "    document = re.sub(r'\\s+[a-zA-Z]\\s+', ' ', document)\n",
    "\n",
    "    # Remove single characters from the start\n",
    "    document = re.sub(r'\\^[a-zA-Z]\\s+', ' ', document)\n",
    "\n",
    "    # Substituting multiple spaces with single space\n",
    "    document = re.sub(r'\\s+', ' ', document, flags=re.I)\n",
    "\n",
    "    # Removing prefixed 'b'\n",
    "    document = re.sub(r'^b\\s+', '', document)\n",
    "\n",
    "    return document\n",
    "\n",
    "preprocess_text_udf = udf(preprocess_text, StringType())\n",
    "\n",
    "def process_data(df, review_column: str=\"review\", sentiment_column: str=\"sentiment\"):\n",
    "    review_2 = review_column + \"2\"\n",
    "    sentiment_2 = sentiment_column + \"2\"\n",
    "    return df.withColumn(\n",
    "        review_2, preprocess_text_udf(col(review_column))\n",
    "    ).drop(review_column).withColumnRenamed(\n",
    "        review_2, review_column\n",
    "    ).withColumn(\n",
    "        sentiment_2, when(df.sentiment==\"positive\", 1).otherwise(0)\n",
    "    ).drop(sentiment_column).withColumnRenamed(\n",
    "        sentiment_2, \"label\"\n",
    "    )"
   ]
  },
  {
   "cell_type": "code",
   "execution_count": 14,
   "metadata": {},
   "outputs": [
    {
     "data": {
      "application/vnd.jupyter.widget-view+json": {
       "model_id": "",
       "version_major": 2,
       "version_minor": 0
      },
      "text/plain": [
       "FloatProgress(value=0.0, bar_style='info', description='Progress:', layout=Layout(height='25px', width='50%'),…"
      ]
     },
     "metadata": {},
     "output_type": "display_data"
    }
   ],
   "source": [
    "from pyspark.ml.feature import HashingTF, IDF, Tokenizer\n",
    "from pyspark.ml.feature import StringIndexer\n",
    "from pyspark.ml import Pipeline\n",
    "\n",
    "def create_pipeline(model, text_col: str=\"review\", label_col: str=\"sentiment\", num_features: int=2**16, min_doc_freq: int=5):\n",
    "    \"\"\"\n",
    "    Creates a pipeline to:\n",
    "        - tokenize, hash by TF, calculate IDF on the text column\n",
    "        - Index the label column strings\n",
    "    Returns the pipeline \n",
    "    \"\"\"\n",
    "    tokenizer = Tokenizer(inputCol=text_col, outputCol=\"words\")\n",
    "    hashtf = HashingTF(numFeatures=num_features, inputCol=\"words\", outputCol='tf')\n",
    "    idf = IDF(inputCol='tf', outputCol=\"features\", minDocFreq=min_doc_freq) #minDocFreq: remove sparse terms\n",
    "    #label_stringIdx = StringIndexer(inputCol=label_col, outputCol=\"label\")\n",
    "    pipeline = Pipeline(stages=[tokenizer, hashtf, idf, model])\n",
    "    return pipeline"
   ]
  },
  {
   "cell_type": "code",
   "execution_count": 15,
   "metadata": {},
   "outputs": [
    {
     "data": {
      "application/vnd.jupyter.widget-view+json": {
       "model_id": "",
       "version_major": 2,
       "version_minor": 0
      },
      "text/plain": [
       "FloatProgress(value=0.0, bar_style='info', description='Progress:', layout=Layout(height='25px', width='50%'),…"
      ]
     },
     "metadata": {},
     "output_type": "display_data"
    }
   ],
   "source": [
    "def prepare_data(df, train_pct: float=0.7, verbose: bool = True):\n",
    "    \"\"\"\n",
    "    Splits the df dataset into train and test, creates the pipeline, processes the data through the pipeline and returns the resulting pipeline and datasets\n",
    "    \"\"\"\n",
    "    train_data, validation_data = df.randomSplit([train_pct, 1.0 - train_pct])\n",
    "    train_data = process_data(train_data).cache()\n",
    "    validation_data = process_data(validation_data)\n",
    "    if verbose:\n",
    "        print(\"train_data=============================\")\n",
    "        print(train_data.head())\n",
    "\n",
    "        print(\"validation_data========================\")\n",
    "        print(validation_data.head())\n",
    "    return train_data, validation_data\n",
    "    "
   ]
  },
  {
   "cell_type": "code",
   "execution_count": 16,
   "metadata": {},
   "outputs": [
    {
     "data": {
      "application/vnd.jupyter.widget-view+json": {
       "model_id": "",
       "version_major": 2,
       "version_minor": 0
      },
      "text/plain": [
       "FloatProgress(value=0.0, bar_style='info', description='Progress:', layout=Layout(height='25px', width='50%'),…"
      ]
     },
     "metadata": {},
     "output_type": "display_data"
    }
   ],
   "source": [
    "from pyspark.ml.classification import LogisticRegression\n",
    "from pyspark.ml.evaluation import BinaryClassificationEvaluator\n",
    "\n",
    "def create_model(max_iter: int=100):\n",
    "    \"\"\"\n",
    "    Trains a logistic regression model on the dataset passed to it\n",
    "    \"\"\"\n",
    "    lr = LogisticRegression(maxIter=max_iter)\n",
    "    return lr\n",
    "\n",
    "def evaluate_predictions(predictions, raw_prediction_col: str=\"rawPrediction\", metric_name: str='areaUnderROC'):\n",
    "    \"\"\"\n",
    "    Calculates an evaluation metric (default AUC) on the specified column of the predictions\n",
    "    \"\"\"\n",
    "    evaluator = BinaryClassificationEvaluator(rawPredictionCol=raw_prediction_col, metricName=metric_name)\n",
    "    return evaluator.evaluate(predictions)"
   ]
  },
  {
   "cell_type": "markdown",
   "metadata": {},
   "source": [
    "The cell below will send the `emr_bucket` variable we retrieved from the cloudformation to the Spark cluster.\n",
    "\n",
    "_note_: If it fails with \"Variable named emr_bucket not found\", you may need to re-execute the first code cell in this notebook, to retrieve the values again. It got erased when we reinitialized the kernel to connect to the EMR cluster."
   ]
  },
  {
   "cell_type": "code",
   "execution_count": 17,
   "metadata": {},
   "outputs": [
    {
     "data": {
      "application/vnd.jupyter.widget-view+json": {
       "model_id": "",
       "version_major": 2,
       "version_minor": 0
      },
      "text/plain": [
       "FloatProgress(value=0.0, bar_style='info', description='Progress:', layout=Layout(height='25px', width='50%'),…"
      ]
     },
     "metadata": {},
     "output_type": "display_data"
    },
    {
     "name": "stdout",
     "output_type": "stream",
     "text": [
      "Successfully passed 'emr_bucket' as 'emr_bucket' to Spark kernel"
     ]
    }
   ],
   "source": [
    "%%send_to_spark -i emr_bucket -t str -n emr_bucket"
   ]
  },
  {
   "cell_type": "markdown",
   "metadata": {},
   "source": [
    "This code takes the full transformation and inference pipeline and serializes it to MLeap format. The dataframe passed to it is used to infer the proper schema."
   ]
  },
  {
   "cell_type": "code",
   "execution_count": 18,
   "metadata": {},
   "outputs": [
    {
     "data": {
      "application/vnd.jupyter.widget-view+json": {
       "model_id": "",
       "version_major": 2,
       "version_minor": 0
      },
      "text/plain": [
       "FloatProgress(value=0.0, bar_style='info', description='Progress:', layout=Layout(height='25px', width='50%'),…"
      ]
     },
     "metadata": {},
     "output_type": "display_data"
    }
   ],
   "source": [
    "#from mleap.pyspark.spark_support import SimpleSparkSerializer\n",
    "import zipfile\n",
    "import tarfile\n",
    "import boto3\n",
    "import os\n",
    "\n",
    "def serialize(pipeline, df, tmp_path: str='/tmp', bucket: str=emr_bucket, key: str=\"emr/movie_reviews/mleap\"):\n",
    "    \"\"\"\n",
    "    Serializes a data preparation pipeline and a model to an MLeap bundle, saves it to an S3 path and returns said path.\n",
    "    \"\"\"\n",
    "    SimpleSparkSerializer().serializeToBundle(\n",
    "        pipeline, f\"jar:file:{tmp_path}/model.zip\", df\n",
    "    )\n",
    "    with zipfile.ZipFile(f\"{tmp_path}/model.zip\") as zf:\n",
    "        zf.extractall(f\"{tmp_path}/model\")\n",
    "    with tarfile.open(f\"{tmp_path}/model.tar.gz\", \"w:gz\") as tar:\n",
    "        tar.add(f\"{tmp_path}/model/bundle.json\", arcname=\"bundle.json\")\n",
    "        tar.add(f\"{tmp_path}/model/root\", arcname=\"root\")\n",
    "    s3 = boto3.resource(\"s3\")\n",
    "    file_name = os.path.join(key, \"model.tar.gz\")\n",
    "    s3.Bucket(bucket).upload_file(f\"{tmp_path}/model.tar.gz\", file_name)\n",
    "    return f\"s3://{bucket}/{file_name}\""
   ]
  },
  {
   "cell_type": "markdown",
   "metadata": {},
   "source": [
    "Now we finally execute the entire logic:\n",
    "- Retrieve the data\n",
    "- Train/test split and data cleansing\n",
    "- Model definition\n",
    "- Pipeline creation\n",
    "- Training the pipeline\n",
    "- Generating inference\n",
    "- Evaluating results"
   ]
  },
  {
   "cell_type": "code",
   "execution_count": 19,
   "metadata": {},
   "outputs": [
    {
     "data": {
      "application/vnd.jupyter.widget-view+json": {
       "model_id": "",
       "version_major": 2,
       "version_minor": 0
      },
      "text/plain": [
       "FloatProgress(value=0.0, bar_style='info', description='Progress:', layout=Layout(height='25px', width='50%'),…"
      ]
     },
     "metadata": {},
     "output_type": "display_data"
    },
    {
     "name": "stdout",
     "output_type": "stream",
     "text": [
      "+--------------------+-----+\n",
      "|              review|label|\n",
      "+--------------------+-----+\n",
      "| Så som himmelen ...|    1|\n",
      "| Thief in the Nig...|    1|\n",
      "| bored television...|    0|\n",
      "| death at college...|    0|\n",
      "| lot of the films...|    0|\n",
      "+--------------------+-----+\n",
      "only showing top 5 rows\n",
      "\n",
      "AUC Metric: 0.9261"
     ]
    }
   ],
   "source": [
    "if __name__ in {\"__main__\", \"builtins\"}:\n",
    "    movie_reviews = sqlContext.sql(\"select * from movie_reviews\")\n",
    "    train_df, val_df = prepare_data(movie_reviews, verbose=False)\n",
    "    train_df.show(5)\n",
    "    model = create_model()\n",
    "    pipeline = create_pipeline(model)\n",
    "    fitModel = pipeline.fit(train_df)\n",
    "    predictions = fitModel.transform(val_df)\n",
    "    evaluation = evaluate_predictions(predictions)\n",
    "    print(f\"AUC Metric: {evaluation:0.4f}\")"
   ]
  },
  {
   "cell_type": "markdown",
   "metadata": {},
   "source": [
    "And here's the schema of the predictions dataframe. We'll use it again for testing inference, so let's save a copy of it."
   ]
  },
  {
   "cell_type": "code",
   "execution_count": 20,
   "metadata": {},
   "outputs": [
    {
     "data": {
      "application/vnd.jupyter.widget-view+json": {
       "model_id": "",
       "version_major": 2,
       "version_minor": 0
      },
      "text/plain": [
       "FloatProgress(value=0.0, bar_style='info', description='Progress:', layout=Layout(height='25px', width='50%'),…"
      ]
     },
     "metadata": {},
     "output_type": "display_data"
    },
    {
     "name": "stdout",
     "output_type": "stream",
     "text": [
      "root\n",
      " |-- review: string (nullable = true)\n",
      " |-- label: integer (nullable = false)\n",
      " |-- words: array (nullable = true)\n",
      " |    |-- element: string (containsNull = true)\n",
      " |-- tf: vector (nullable = true)\n",
      " |-- features: vector (nullable = true)\n",
      " |-- rawPrediction: vector (nullable = true)\n",
      " |-- probability: vector (nullable = true)\n",
      " |-- prediction: double (nullable = false)"
     ]
    }
   ],
   "source": [
    "predictions.printSchema()"
   ]
  },
  {
   "cell_type": "code",
   "execution_count": 25,
   "metadata": {},
   "outputs": [
    {
     "data": {
      "application/vnd.jupyter.widget-view+json": {
       "model_id": "",
       "version_major": 2,
       "version_minor": 0
      },
      "text/plain": [
       "FloatProgress(value=0.0, bar_style='info', description='Progress:', layout=Layout(height='25px', width='50%'),…"
      ]
     },
     "metadata": {},
     "output_type": "display_data"
    }
   ],
   "source": [
    "predictions.select(\n",
    "    \"review\", \"label\", \"prediction\"\n",
    ").repartition(1).write.format(\"csv\").option(\"header\", \"true\").mode(\"overwrite\").save(\n",
    "    f\"s3://{emr_bucket}/emr/movie_reviews/output/predictions.csv\"\n",
    ")"
   ]
  },
  {
   "cell_type": "markdown",
   "metadata": {},
   "source": [
    "And we'll also save the serialized pipeline. Notice that MLeap can only serialize objects of the `PipelineModel` class, so always wrap your model in a pipeline even if there are no other steps."
   ]
  },
  {
   "cell_type": "code",
   "execution_count": 24,
   "metadata": {},
   "outputs": [
    {
     "data": {
      "application/vnd.jupyter.widget-view+json": {
       "model_id": "",
       "version_major": 2,
       "version_minor": 0
      },
      "text/plain": [
       "FloatProgress(value=0.0, bar_style='info', description='Progress:', layout=Layout(height='25px', width='50%'),…"
      ]
     },
     "metadata": {},
     "output_type": "display_data"
    },
    {
     "name": "stdout",
     "output_type": "stream",
     "text": [
      "Serialized model saved to s3://studio-emr-v5-s3bucket-t2wfrxqwzj0g/emr/movie_reviews/mleap/model.tar.gz"
     ]
    }
   ],
   "source": [
    "if __name__ in {\"__main__\", \"builtins\"}:\n",
    "    s3_uri = serialize(fitModel, predictions.drop(\"label\"))    \n",
    "    print(f\"Serialized model saved to {s3_uri}\")"
   ]
  },
  {
   "cell_type": "markdown",
   "metadata": {},
   "source": [
    "That concludes the training example. Please proceed to the \"SageMaker PySpark EMR Serving\" notebook to see how to deploy the model."
   ]
  }
 ],
 "metadata": {
  "instance_type": "ml.t3.medium",
  "kernelspec": {
   "display_name": "PySpark (SparkMagic)",
   "language": "python",
   "name": "pysparkkernel__SAGEMAKER_INTERNAL__arn:aws:sagemaker:us-east-1:081325390199:image/sparkmagic-1.0"
  },
  "language_info": {
   "codemirror_mode": {
    "name": "python",
    "version": 3
   },
   "file_extension": ".py",
   "mimetype": "text/x-python",
   "name": "pyspark",
   "pygments_lexer": "python3"
  }
 },
 "nbformat": 4,
 "nbformat_minor": 4
}
